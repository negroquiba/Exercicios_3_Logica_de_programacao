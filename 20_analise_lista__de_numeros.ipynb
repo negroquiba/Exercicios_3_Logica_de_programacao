{
  "nbformat": 4,
  "nbformat_minor": 0,
  "metadata": {
    "colab": {
      "provenance": []
    },
    "kernelspec": {
      "name": "python3",
      "display_name": "Python 3"
    },
    "language_info": {
      "name": "python"
    }
  },
  "cells": [
    {
      "cell_type": "code",
      "execution_count": 5,
      "metadata": {
        "colab": {
          "base_uri": "https://localhost:8080/"
        },
        "id": "LPkxD5J6ZIXC",
        "outputId": "52108880-08e7-4642-aa86-966a95c1d47a"
      },
      "outputs": [
        {
          "output_type": "stream",
          "name": "stdout",
          "text": [
            "Digite um número (ou 'fim' para encerrar): \n",
            "Entrada inválida. Por favor, digite um número ou 'fim' para encerrar.\n",
            "Digite um número (ou 'fim' para encerrar): 5\n",
            "Digite um número (ou 'fim' para encerrar): 1\n",
            "Digite um número (ou 'fim' para encerrar): 6\n",
            "Digite um número (ou 'fim' para encerrar): 8\n",
            "Digite um número (ou 'fim' para encerrar): 9\n",
            "Digite um número (ou 'fim' para encerrar): 11\n",
            "Digite um número (ou 'fim' para encerrar): 8\n",
            "Digite um número (ou 'fim' para encerrar): fim\n",
            "Maior número: 11.0\n",
            "Menor número: 1.0\n",
            "Média dos números: 6.86\n"
          ]
        }
      ],
      "source": [
        "def main():\n",
        "    numeros = []\n",
        "\n",
        "    while True:\n",
        "        entrada = input(\"Digite um número (ou 'fim' para encerrar): \")\n",
        "\n",
        "        if entrada.lower() == 'fim':\n",
        "            break\n",
        "\n",
        "        try:\n",
        "            numero = float(entrada)\n",
        "            numeros.append(numero)\n",
        "        except ValueError:\n",
        "            print(\"Entrada inválida. Por favor, digite um número ou 'fim' para encerrar.\")\n",
        "\n",
        "    if numeros:\n",
        "        maior = max(numeros)\n",
        "        menor = min(numeros)\n",
        "        media = sum(numeros) / len(numeros)\n",
        "\n",
        "        print(f\"Maior número: {maior}\")\n",
        "        print(f\"Menor número: {menor}\")\n",
        "        print(f\"Média dos números: {media:.2f}\")\n",
        "    else:\n",
        "        print(\"Nenhum número foi inserido.\")\n",
        "\n",
        "if __name__ == \"__main__\":\n",
        "    main()\n"
      ]
    }
  ]
}