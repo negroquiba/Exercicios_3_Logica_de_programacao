{
  "nbformat": 4,
  "nbformat_minor": 0,
  "metadata": {
    "colab": {
      "provenance": []
    },
    "kernelspec": {
      "name": "python3",
      "display_name": "Python 3"
    },
    "language_info": {
      "name": "python"
    }
  },
  "cells": [
    {
      "cell_type": "code",
      "execution_count": 13,
      "metadata": {
        "colab": {
          "base_uri": "https://localhost:8080/"
        },
        "id": "9hCXGAcNBzcJ",
        "outputId": "bd3acb3c-f0b7-4176-dd55-f4266764bf88"
      },
      "outputs": [
        {
          "output_type": "stream",
          "name": "stdout",
          "text": [
            "Digite seu peso em Quilos 95\n",
            "Digite sua alutra em metros, 1.75\n",
            "Seu IMC é 31.020408163265305\n"
          ]
        }
      ],
      "source": [
        "peso = float(input('Digite seu peso em Quilos '))\n",
        "\n",
        "altura = float(input('Digite sua alutra em metros, '))\n",
        "\n",
        "imc = (peso / (altura * altura))\n",
        "\n",
        "print('Seu IMC é {}'.format(imc))"
      ]
    }
  ]
}