{
  "nbformat": 4,
  "nbformat_minor": 0,
  "metadata": {
    "colab": {
      "provenance": []
    },
    "kernelspec": {
      "name": "python3",
      "display_name": "Python 3"
    },
    "language_info": {
      "name": "python"
    }
  },
  "cells": [
    {
      "cell_type": "code",
      "execution_count": 1,
      "metadata": {
        "colab": {
          "base_uri": "https://localhost:8080/"
        },
        "id": "LPkxD5J6ZIXC",
        "outputId": "deba8e0b-6bfd-4f7a-c083-f6d41af5ef77"
      },
      "outputs": [
        {
          "output_type": "stream",
          "name": "stdout",
          "text": [
            "Digite um número inteiro: 5\n",
            "5 não é um número perfeito.\n"
          ]
        }
      ],
      "source": [
        "numero = int(input(\"Digite um número inteiro: \"))\n",
        "\n",
        "soma_divisores = 0\n",
        "\n",
        "for i in range(1, numero):\n",
        "    if numero % i == 0:\n",
        "        soma_divisores += i\n",
        "\n",
        "if soma_divisores == numero:\n",
        "    print(f\"{numero} é um número perfeito.\")\n",
        "else:\n",
        "    print(f\"{numero} não é um número perfeito.\")\n"
      ]
    }
  ]
}