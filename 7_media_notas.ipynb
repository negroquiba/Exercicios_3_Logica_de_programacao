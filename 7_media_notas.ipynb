{
  "nbformat": 4,
  "nbformat_minor": 0,
  "metadata": {
    "colab": {
      "provenance": []
    },
    "kernelspec": {
      "name": "python3",
      "display_name": "Python 3"
    },
    "language_info": {
      "name": "python"
    }
  },
  "cells": [
    {
      "cell_type": "code",
      "execution_count": 26,
      "metadata": {
        "colab": {
          "base_uri": "https://localhost:8080/"
        },
        "id": "9hCXGAcNBzcJ",
        "outputId": "bd249188-a58b-45fd-8515-5824f2019e80"
      },
      "outputs": [
        {
          "output_type": "stream",
          "name": "stdout",
          "text": [
            "Digite uma nota (ou -1 para parar): 5\n",
            "Digite uma nota (ou -1 para parar): 7\n",
            "Digite uma nota (ou -1 para parar): 8\n",
            "Digite uma nota (ou -1 para parar): -1\n",
            "A média das notas inseridas é: 6.67\n"
          ]
        }
      ],
      "source": [
        "soma_notas = 0\n",
        "contador_notas = 0\n",
        "\n",
        "while True:\n",
        "\n",
        "    nota = float(input(\"Digite uma nota (ou -1 para parar): \"))\n",
        "\n",
        "    if nota == -1:\n",
        "        break\n",
        "\n",
        "    soma_notas += nota\n",
        "    contador_notas += 1\n",
        "\n",
        "if contador_notas > 0:\n",
        "    media = soma_notas / contador_notas\n",
        "    print(f\"A média das notas inseridas é: {media:.2f}\")\n",
        "else:\n",
        "    print(\"Nenhuma nota foi inserida.\")\n"
      ]
    }
  ]
}