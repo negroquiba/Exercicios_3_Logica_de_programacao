{
  "nbformat": 4,
  "nbformat_minor": 0,
  "metadata": {
    "colab": {
      "provenance": []
    },
    "kernelspec": {
      "name": "python3",
      "display_name": "Python 3"
    },
    "language_info": {
      "name": "python"
    }
  },
  "cells": [
    {
      "cell_type": "code",
      "execution_count": 7,
      "metadata": {
        "colab": {
          "base_uri": "https://localhost:8080/",
          "height": 0
        },
        "id": "9hCXGAcNBzcJ",
        "outputId": "9ec99e22-20bc-464c-8083-733f4adc52d5"
      },
      "outputs": [
        {
          "output_type": "stream",
          "name": "stdout",
          "text": [
            "Digite um grau em °C 5\n",
            "O grau 5°C em fahrenheit é 41.0\n",
            "O grau 5°C em kelvin é 278.15\n"
          ]
        }
      ],
      "source": [
        "c = int(input('Digite um grau em °C '))\n",
        "\n",
        "f = ((c * 9/5) + 32)\n",
        "\n",
        "k = (c + 273.15)\n",
        "\n",
        "print('O grau {}°C em fahrenheit é {}'.format(c, f))\n",
        "\n",
        "print('O grau {}°C em kelvin é {}'.format(c, k))\n"
      ]
    }
  ]
}