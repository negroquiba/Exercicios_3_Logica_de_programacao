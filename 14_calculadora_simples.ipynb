{
  "nbformat": 4,
  "nbformat_minor": 0,
  "metadata": {
    "colab": {
      "provenance": []
    },
    "kernelspec": {
      "name": "python3",
      "display_name": "Python 3"
    },
    "language_info": {
      "name": "python"
    }
  },
  "cells": [
    {
      "cell_type": "code",
      "execution_count": 42,
      "metadata": {
        "colab": {
          "base_uri": "https://localhost:8080/"
        },
        "id": "9hCXGAcNBzcJ",
        "outputId": "9d81988e-d197-474e-b3a9-ad26f38948d8"
      },
      "outputs": [
        {
          "output_type": "stream",
          "name": "stdout",
          "text": [
            "Digite o primeiro número: 5\n",
            "Digite o segundo número: 6\n",
            "Digite a operação desejada (+, -, *, /): *\n",
            "5.0 * 6.0 = 30.0\n"
          ]
        }
      ],
      "source": [
        "numero1 = float(input(\"Digite o primeiro número: \"))\n",
        "\n",
        "numero2 = float(input(\"Digite o segundo número: \"))\n",
        "\n",
        "operador = input(\"Digite a operação desejada (+, -, *, /): \")\n",
        "\n",
        "if operador == '+':\n",
        "    resultado = numero1 + numero2\n",
        "    print(f\"{numero1} + {numero2} = {resultado}\")\n",
        "elif operador == '-':\n",
        "    resultado = numero1 - numero2\n",
        "    print(f\"{numero1} - {numero2} = {resultado}\")\n",
        "elif operador == '*':\n",
        "    resultado = numero1 * numero2\n",
        "    print(f\"{numero1} * {numero2} = {resultado}\")\n",
        "elif operador == '/':\n",
        "    if numero2 != 0:\n",
        "        resultado = numero1 / numero2\n",
        "        print(f\"{numero1} / {numero2} = {resultado}\")\n",
        "    else:\n",
        "        print(\"Erro: Divisão por zero não é permitida.\")\n",
        "else:\n",
        "    print(\"Operação inválida. Por favor, escolha entre +, -, * ou /.\")\n",
        "\n"
      ]
    }
  ]
}