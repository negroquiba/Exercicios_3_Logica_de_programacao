{
  "nbformat": 4,
  "nbformat_minor": 0,
  "metadata": {
    "colab": {
      "provenance": []
    },
    "kernelspec": {
      "name": "python3",
      "display_name": "Python 3"
    },
    "language_info": {
      "name": "python"
    }
  },
  "cells": [
    {
      "cell_type": "code",
      "execution_count": 24,
      "metadata": {
        "colab": {
          "base_uri": "https://localhost:8080/"
        },
        "id": "9hCXGAcNBzcJ",
        "outputId": "c5b29086-7593-4028-ea6f-c97edc841592"
      },
      "outputs": [
        {
          "output_type": "stream",
          "name": "stdout",
          "text": [
            "Digite uma frase: A menina é bonita\n",
            "A frase contém 7 vogais.\n"
          ]
        }
      ],
      "source": [
        "frase = input(\"Digite uma frase: \")\n",
        "\n",
        "frase = frase.lower()\n",
        "\n",
        "contador_vogais = 0\n",
        "\n",
        "for char in frase:\n",
        "    if char in 'aeiou':\n",
        "        contador_vogais += 1\n",
        "\n",
        "print(f\"A frase contém {contador_vogais} vogais.\")\n"
      ]
    }
  ]
}