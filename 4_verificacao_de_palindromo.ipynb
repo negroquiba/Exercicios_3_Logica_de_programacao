{
  "nbformat": 4,
  "nbformat_minor": 0,
  "metadata": {
    "colab": {
      "provenance": []
    },
    "kernelspec": {
      "name": "python3",
      "display_name": "Python 3"
    },
    "language_info": {
      "name": "python"
    }
  },
  "cells": [
    {
      "cell_type": "code",
      "execution_count": 17,
      "metadata": {
        "colab": {
          "base_uri": "https://localhost:8080/"
        },
        "id": "9hCXGAcNBzcJ",
        "outputId": "bdfbebb1-4bc3-4cf3-c97a-170cabc1baad"
      },
      "outputs": [
        {
          "output_type": "stream",
          "name": "stdout",
          "text": [
            "Digite uma palavra ou frase: oi\n",
            "Não é um palíndromo.\n"
          ]
        }
      ],
      "source": [
        "entrada = input(\"Digite uma palavra ou frase: \")\n",
        "\n",
        "entrada_limpa = ''.join(entrada.split()).lower()\n",
        "\n",
        "if entrada_limpa == entrada_limpa[::-1]:\n",
        "    print(\"É um palíndromo!\")\n",
        "else:\n",
        "    print(\"Não é um palíndromo.\")\n"
      ]
    }
  ]
}