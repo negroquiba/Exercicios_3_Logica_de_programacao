{
  "nbformat": 4,
  "nbformat_minor": 0,
  "metadata": {
    "colab": {
      "provenance": []
    },
    "kernelspec": {
      "name": "python3",
      "display_name": "Python 3"
    },
    "language_info": {
      "name": "python"
    }
  },
  "cells": [
    {
      "cell_type": "code",
      "execution_count": 4,
      "metadata": {
        "colab": {
          "base_uri": "https://localhost:8080/"
        },
        "id": "LPkxD5J6ZIXC",
        "outputId": "cb02232a-0817-4cbf-f7c6-850ce98986d5"
      },
      "outputs": [
        {
          "output_type": "stream",
          "name": "stdout",
          "text": [
            "Digite a primeira nota: 50\n",
            "Digite a segunda nota: 40\n",
            "Digite a terceira nota: 60\n",
            "A média ponderada das notas é: 52.00\n"
          ]
        }
      ],
      "source": [
        "def calcular_media_ponderada(nota1, nota2, nota3):\n",
        "    peso1 = 2\n",
        "    peso2 = 3\n",
        "    peso3 = 5\n",
        "\n",
        "    soma_ponderada = (nota1 * peso1) + (nota2 * peso2) + (nota3 * peso3)\n",
        "\n",
        "    soma_pesos = peso1 + peso2 + peso3\n",
        "\n",
        "    media_ponderada = soma_ponderada / soma_pesos\n",
        "\n",
        "    return media_ponderada\n",
        "\n",
        "nota1 = float(input(\"Digite a primeira nota: \"))\n",
        "nota2 = float(input(\"Digite a segunda nota: \"))\n",
        "nota3 = float(input(\"Digite a terceira nota: \"))\n",
        "\n",
        "media = calcular_media_ponderada(nota1, nota2, nota3)\n",
        "\n",
        "print(f\"A média ponderada das notas é: {media:.2f}\")\n"
      ]
    }
  ]
}