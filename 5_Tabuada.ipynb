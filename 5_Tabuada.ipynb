{
  "nbformat": 4,
  "nbformat_minor": 0,
  "metadata": {
    "colab": {
      "provenance": []
    },
    "kernelspec": {
      "name": "python3",
      "display_name": "Python 3"
    },
    "language_info": {
      "name": "python"
    }
  },
  "cells": [
    {
      "cell_type": "code",
      "execution_count": 23,
      "metadata": {
        "colab": {
          "base_uri": "https://localhost:8080/"
        },
        "id": "9hCXGAcNBzcJ",
        "outputId": "d9223de4-6d62-4f33-f530-0cd5d8505857"
      },
      "outputs": [
        {
          "output_type": "stream",
          "name": "stdout",
          "text": [
            "Digite um número 3.14\n",
            "A tabuada de + n + é \n",
            "3.14 x 1 = 3.14\n",
            "3.14 x 2 = 6.28\n",
            "3.14 x 3 = 9.42\n",
            "3.14 x 4 = 12.56\n",
            "3.14 x 5 = 15.700000000000001\n",
            "3.14 x 6 = 18.84\n",
            "3.14 x 7 = 21.98\n",
            "3.14 x 8 = 25.12\n",
            "3.14 x 9 = 28.26\n",
            "3.14 x 10 = 31.400000000000002\n"
          ]
        }
      ],
      "source": [
        "n = float(input('Digite um número '))\n",
        "n1 = n * 1\n",
        "n2 = n * 2\n",
        "n3 = n * 3\n",
        "n4 = n * 4\n",
        "n5 = n * 5\n",
        "n6 = n * 6\n",
        "n7 = n * 7\n",
        "n8 = n * 8\n",
        "n9 = n * 9\n",
        "n10 = n * 10\n",
        "#print('A tabuada do numero {} é: \\n{} \\n{} \\n{} \\n{} \\n{} \\n{} \\n{} \\n{} \\n{} \\n{}' .format(n, n1, n2, n3, n4, n5, n6, n7, n8, n9, n10) )\n",
        "print('A tabuada de + n + é ')\n",
        "print('{} x 1 = {}'.format(n, n1))\n",
        "print('{} x 2 = {}'.format(n, n2))\n",
        "print('{} x 3 = {}'.format(n, n3))\n",
        "print('{} x 4 = {}'.format(n, n4))\n",
        "print('{} x 5 = {}'.format(n, n5))\n",
        "print('{} x 6 = {}'.format(n, n6))\n",
        "print('{} x 7 = {}'.format(n, n7))\n",
        "print('{} x 8 = {}'.format(n, n8))\n",
        "print('{} x 9 = {}'.format(n, n9))\n",
        "print('{} x 10 = {}'.format(n, n10))\n"
      ]
    }
  ]
}