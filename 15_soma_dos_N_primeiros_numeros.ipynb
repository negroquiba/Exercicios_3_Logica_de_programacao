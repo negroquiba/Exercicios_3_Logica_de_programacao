{
  "nbformat": 4,
  "nbformat_minor": 0,
  "metadata": {
    "colab": {
      "provenance": []
    },
    "kernelspec": {
      "name": "python3",
      "display_name": "Python 3"
    },
    "language_info": {
      "name": "python"
    }
  },
  "cells": [
    {
      "cell_type": "code",
      "execution_count": 43,
      "metadata": {
        "colab": {
          "base_uri": "https://localhost:8080/"
        },
        "id": "9hCXGAcNBzcJ",
        "outputId": "5a60d829-bc80-4961-fed9-863cfae0d41d"
      },
      "outputs": [
        {
          "output_type": "stream",
          "name": "stdout",
          "text": [
            "Digite o valor de n: 5\n",
            "A soma dos primeiros 5 números naturais é: 15\n"
          ]
        }
      ],
      "source": [
        "n = int(input(\"Digite o valor de n: \"))\n",
        "\n",
        "soma = n * (n + 1) // 2\n",
        "\n",
        "print(f\"A soma dos primeiros {n} números naturais é: {soma}\")\n",
        "\n"
      ]
    }
  ]
}