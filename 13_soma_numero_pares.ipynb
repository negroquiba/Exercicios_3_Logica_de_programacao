{
  "nbformat": 4,
  "nbformat_minor": 0,
  "metadata": {
    "colab": {
      "provenance": []
    },
    "kernelspec": {
      "name": "python3",
      "display_name": "Python 3"
    },
    "language_info": {
      "name": "python"
    }
  },
  "cells": [
    {
      "cell_type": "code",
      "execution_count": 41,
      "metadata": {
        "colab": {
          "base_uri": "https://localhost:8080/"
        },
        "id": "9hCXGAcNBzcJ",
        "outputId": "e0d335a6-8efb-49aa-ca93-a23f03684e53"
      },
      "outputs": [
        {
          "output_type": "stream",
          "name": "stdout",
          "text": [
            "A soma de todos os números pares entre 1 e 100 é: 2550\n"
          ]
        }
      ],
      "source": [
        "soma_pares = 0\n",
        "\n",
        "for numero in range(1, 101):\n",
        "    if numero % 2 == 0:\n",
        "        soma_pares += numero\n",
        "\n",
        "print(f\"A soma de todos os números pares entre 1 e 100 é: {soma_pares}\")\n"
      ]
    }
  ]
}