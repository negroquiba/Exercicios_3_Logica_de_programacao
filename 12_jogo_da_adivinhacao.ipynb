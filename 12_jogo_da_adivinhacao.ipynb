{
  "nbformat": 4,
  "nbformat_minor": 0,
  "metadata": {
    "colab": {
      "provenance": []
    },
    "kernelspec": {
      "name": "python3",
      "display_name": "Python 3"
    },
    "language_info": {
      "name": "python"
    }
  },
  "cells": [
    {
      "cell_type": "code",
      "execution_count": 39,
      "metadata": {
        "colab": {
          "base_uri": "https://localhost:8080/"
        },
        "id": "9hCXGAcNBzcJ",
        "outputId": "e4846384-b1a5-4cb6-b205-2bb1f8cbd460"
      },
      "outputs": [
        {
          "output_type": "stream",
          "name": "stdout",
          "text": [
            "Bem-vindo ao jogo de adivinhação!\n",
            "Tente adivinhar o número entre 1 e 100.\n",
            "Digite seu palpite: 5\n",
            "O número secreto é maior!\n",
            "Digite seu palpite: 20\n",
            "O número secreto é menor!\n",
            "Digite seu palpite: 15\n",
            "O número secreto é menor!\n",
            "Digite seu palpite: 12\n",
            "O número secreto é menor!\n",
            "Digite seu palpite: 11\n",
            "O número secreto é menor!\n",
            "Digite seu palpite: 10\n",
            "O número secreto é menor!\n",
            "Digite seu palpite: 9\n",
            "Parabéns! Você acertou o número!\n"
          ]
        }
      ],
      "source": [
        "import random\n",
        "\n",
        "numero_secreto = random.randint(1, 100)\n",
        "\n",
        "print(\"Bem-vindo ao jogo de adivinhação!\")\n",
        "print(\"Tente adivinhar o número entre 1 e 100.\")\n",
        "\n",
        "while True:\n",
        "    palpite = int(input(\"Digite seu palpite: \"))\n",
        "\n",
        "    if palpite < numero_secreto:\n",
        "        print(\"O número secreto é maior!\")\n",
        "    elif palpite > numero_secreto:\n",
        "        print(\"O número secreto é menor!\")\n",
        "    else:\n",
        "        print(\"Parabéns! Você acertou o número!\")\n",
        "        break\n"
      ]
    }
  ]
}