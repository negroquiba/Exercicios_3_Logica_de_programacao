{
  "nbformat": 4,
  "nbformat_minor": 0,
  "metadata": {
    "colab": {
      "provenance": []
    },
    "kernelspec": {
      "name": "python3",
      "display_name": "Python 3"
    },
    "language_info": {
      "name": "python"
    }
  },
  "cells": [
    {
      "cell_type": "code",
      "execution_count": 31,
      "metadata": {
        "colab": {
          "base_uri": "https://localhost:8080/"
        },
        "id": "9hCXGAcNBzcJ",
        "outputId": "7f277a86-4722-4efa-8ff3-fc85b554c657"
      },
      "outputs": [
        {
          "output_type": "stream",
          "name": "stdout",
          "text": [
            "Digite o número de termos da sequência de Fibonacci: 10\n",
            "Sequência de Fibonacci com 10 termos:\n",
            "[0, 1, 1, 2, 3, 5, 8, 13, 21, 34]\n"
          ]
        }
      ],
      "source": [
        "n = int(input(\"Digite o número de termos da sequência de Fibonacci: \"))\n",
        "\n",
        "fibonacci = [0, 1]\n",
        "\n",
        "for i in range(2, n):\n",
        "    proximo_termo = fibonacci[i - 1] + fibonacci[i - 2]\n",
        "    fibonacci.append(proximo_termo)\n",
        "\n",
        "print(\"Sequência de Fibonacci com\", n, \"termos:\")\n",
        "print(fibonacci[:n])\n"
      ]
    }
  ]
}