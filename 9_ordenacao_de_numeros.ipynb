{
  "nbformat": 4,
  "nbformat_minor": 0,
  "metadata": {
    "colab": {
      "provenance": []
    },
    "kernelspec": {
      "name": "python3",
      "display_name": "Python 3"
    },
    "language_info": {
      "name": "python"
    }
  },
  "cells": [
    {
      "cell_type": "code",
      "execution_count": 32,
      "metadata": {
        "colab": {
          "base_uri": "https://localhost:8080/"
        },
        "id": "9hCXGAcNBzcJ",
        "outputId": "0cace446-3d3b-4df7-c90a-7886dbae516a"
      },
      "outputs": [
        {
          "output_type": "stream",
          "name": "stdout",
          "text": [
            "Digite o primeiro número: 10\n",
            "Digite o segundo número: 8\n",
            "Digite o terceiro número: 23\n",
            "Os números em ordem crescente são: [8.0, 10.0, 23.0]\n"
          ]
        }
      ],
      "source": [
        "num1 = float(input(\"Digite o primeiro número: \"))\n",
        "num2 = float(input(\"Digite o segundo número: \"))\n",
        "num3 = float(input(\"Digite o terceiro número: \"))\n",
        "\n",
        "if num1 <= num2 and num1 <= num3:\n",
        "    if num2 <= num3:\n",
        "        ordem = [num1, num2, num3]\n",
        "    else:\n",
        "        ordem = [num1, num3, num2]\n",
        "elif num2 <= num1 and num2 <= num3:\n",
        "    if num1 <= num3:\n",
        "        ordem = [num2, num1, num3]\n",
        "    else:\n",
        "        ordem = [num2, num3, num1]\n",
        "else:\n",
        "    if num1 <= num2:\n",
        "        ordem = [num3, num1, num2]\n",
        "    else:\n",
        "        ordem = [num3, num2, num1]\n",
        "\n",
        "print(\"Os números em ordem crescente são:\", ordem)\n"
      ]
    }
  ]
}