{
  "nbformat": 4,
  "nbformat_minor": 0,
  "metadata": {
    "colab": {
      "provenance": []
    },
    "kernelspec": {
      "name": "python3",
      "display_name": "Python 3"
    },
    "language_info": {
      "name": "python"
    }
  },
  "cells": [
    {
      "cell_type": "code",
      "execution_count": 37,
      "metadata": {
        "colab": {
          "base_uri": "https://localhost:8080/"
        },
        "id": "9hCXGAcNBzcJ",
        "outputId": "d627a7bb-0d6a-417f-c9d9-51e1d9fe0e58"
      },
      "outputs": [
        {
          "output_type": "stream",
          "name": "stdout",
          "text": [
            "Digite o raio do circulo 5\n",
            "A área do circulo de raio 5.0 é 78.5\n"
          ]
        }
      ],
      "source": [
        "r = float(input('Digite o raio do circulo '))\n",
        "a = (3.14 * (r*r))\n",
        "print('A área do circulo de raio {} é {}'.format(r, a))\n"
      ]
    }
  ]
}