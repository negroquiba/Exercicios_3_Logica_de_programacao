{
  "nbformat": 4,
  "nbformat_minor": 0,
  "metadata": {
    "colab": {
      "provenance": []
    },
    "kernelspec": {
      "name": "python3",
      "display_name": "Python 3"
    },
    "language_info": {
      "name": "python"
    }
  },
  "cells": [
    {
      "cell_type": "code",
      "execution_count": 45,
      "metadata": {
        "colab": {
          "base_uri": "https://localhost:8080/"
        },
        "id": "9hCXGAcNBzcJ",
        "outputId": "bf57ec30-e7bd-49cb-d316-f909b759b85e"
      },
      "outputs": [
        {
          "output_type": "stream",
          "name": "stdout",
          "text": [
            "Digite uma string: klj]\n",
            "A string invertida é: ]jlk\n"
          ]
        }
      ],
      "source": [
        "string = input(\"Digite uma string: \")\n",
        "\n",
        "string_invertida = string[::-1]\n",
        "\n",
        "print(\"A string invertida é:\", string_invertida)\n"
      ]
    }
  ]
}