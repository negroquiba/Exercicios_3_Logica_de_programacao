{
  "nbformat": 4,
  "nbformat_minor": 0,
  "metadata": {
    "colab": {
      "provenance": []
    },
    "kernelspec": {
      "name": "python3",
      "display_name": "Python 3"
    },
    "language_info": {
      "name": "python"
    }
  },
  "cells": [
    {
      "cell_type": "code",
      "execution_count": 3,
      "metadata": {
        "colab": {
          "base_uri": "https://localhost:8080/"
        },
        "id": "LPkxD5J6ZIXC",
        "outputId": "d3bf47b9-b65e-4d70-a15b-ef35545c4fed"
      },
      "outputs": [
        {
          "output_type": "stream",
          "name": "stdout",
          "text": [
            "Digite uma frase: olá mundo, te amo\n",
            "A frase contém 4 palavras.\n"
          ]
        }
      ],
      "source": [
        "frase = input(\"Digite uma frase: \")\n",
        "\n",
        "palavras = frase.split()\n",
        "\n",
        "numero_de_palavras = len(palavras)\n",
        "\n",
        "print(f\"A frase contém {numero_de_palavras} palavras.\")\n",
        "\n"
      ]
    }
  ]
}